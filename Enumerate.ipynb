{
 "cells": [
  {
   "cell_type": "markdown",
   "metadata": {},
   "source": [
    "# Enumerate"
   ]
  },
  {
   "cell_type": "markdown",
   "metadata": {},
   "source": [
    "- Применяется для итерируемых коллекций - строки, словари,списки. \n",
    "- Создает кортеж из 2х элементов - индекс и сам элемент\n",
    "- Без использования enumerate пришлось бы вводить счетчик в цикле"
   ]
  },
  {
   "cell_type": "code",
   "execution_count": 8,
   "metadata": {},
   "outputs": [
    {
     "name": "stdout",
     "output_type": "stream",
     "text": [
      "0 10\n",
      "1 20\n",
      "2 30\n",
      "3 40\n",
      "------------------------\n",
      "[15, 25, 35, 45]\n",
      "------------------------\n",
      "(0, 1)\n",
      "(1, 2)\n",
      "(2, 3)\n"
     ]
    }
   ],
   "source": [
    "# List\n",
    "a = [10, 20, 30, 40]\n",
    "for index,item in enumerate(a):\n",
    "     print(index,item)\n",
    "        \n",
    "print('------------------------')\n",
    "\n",
    "for index, item in enumerate(a):\n",
    "    a[index] = item + 5\n",
    "print(a)\n",
    "    \n",
    "print('------------------------') \n",
    "\n",
    "c = {1: 'a', 2: 'b', 3: 'c'}\n",
    "for i in enumerate(c):\n",
    "    print(i)"
   ]
  },
  {
   "cell_type": "code",
   "execution_count": 9,
   "metadata": {},
   "outputs": [
    {
     "name": "stdout",
     "output_type": "stream",
     "text": [
      "[15, 25, 35, 45]\n"
     ]
    }
   ],
   "source": [
    "# Интеерсный аналог\n",
    "a = [10, 20, 30, 40]\n",
    "a = [i + 5 for i in a]\n",
    "print(a)"
   ]
  },
  {
   "cell_type": "code",
   "execution_count": null,
   "metadata": {},
   "outputs": [],
   "source": []
  }
 ],
 "metadata": {
  "kernelspec": {
   "display_name": "Python 3",
   "language": "python",
   "name": "python3"
  },
  "language_info": {
   "codemirror_mode": {
    "name": "ipython",
    "version": 3
   },
   "file_extension": ".py",
   "mimetype": "text/x-python",
   "name": "python",
   "nbconvert_exporter": "python",
   "pygments_lexer": "ipython3",
   "version": "3.7.3"
  }
 },
 "nbformat": 4,
 "nbformat_minor": 4
}
